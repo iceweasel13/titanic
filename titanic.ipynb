{
 "cells": [
  {
   "cell_type": "code",
   "execution_count": 1,
   "id": "e4c054ee",
   "metadata": {
    "execution": {
     "iopub.execute_input": "2025-06-23T17:45:42.851525Z",
     "iopub.status.busy": "2025-06-23T17:45:42.851153Z",
     "iopub.status.idle": "2025-06-23T17:45:47.197959Z",
     "shell.execute_reply": "2025-06-23T17:45:47.196927Z"
    },
    "papermill": {
     "duration": 4.35925,
     "end_time": "2025-06-23T17:45:47.200123",
     "exception": false,
     "start_time": "2025-06-23T17:45:42.840873",
     "status": "completed"
    },
    "tags": []
   },
   "outputs": [],
   "source": [
    "import pandas as pd\n",
    "import numpy as np\n",
    "import matplotlib.pyplot as plt\n",
    "import seaborn as sns\n",
    "import re \n",
    "from sklearn.model_selection import train_test_split\n",
    "from sklearn.preprocessing import StandardScaler\n",
    "from sklearn.linear_model import LogisticRegression\n",
    "from sklearn.pipeline import Pipeline\n",
    "from sklearn.metrics import classification_report, roc_auc_score, confusion_matrix, ConfusionMatrixDisplay\n",
    "import joblib\n",
    "import sklearn.metrics as metrics"
   ]
  },
  {
   "cell_type": "code",
   "execution_count": 2,
   "id": "d825c88f",
   "metadata": {
    "execution": {
     "iopub.execute_input": "2025-06-23T17:45:47.218910Z",
     "iopub.status.busy": "2025-06-23T17:45:47.218454Z",
     "iopub.status.idle": "2025-06-23T17:45:47.223271Z",
     "shell.execute_reply": "2025-06-23T17:45:47.222277Z"
    },
    "papermill": {
     "duration": 0.016069,
     "end_time": "2025-06-23T17:45:47.225006",
     "exception": false,
     "start_time": "2025-06-23T17:45:47.208937",
     "status": "completed"
    },
    "tags": []
   },
   "outputs": [],
   "source": [
    "import os"
   ]
  },
  {
   "cell_type": "code",
   "execution_count": 3,
   "id": "db1257d4",
   "metadata": {
    "execution": {
     "iopub.execute_input": "2025-06-23T17:45:47.242155Z",
     "iopub.status.busy": "2025-06-23T17:45:47.241779Z",
     "iopub.status.idle": "2025-06-23T17:45:47.248899Z",
     "shell.execute_reply": "2025-06-23T17:45:47.247801Z"
    },
    "papermill": {
     "duration": 0.017491,
     "end_time": "2025-06-23T17:45:47.250489",
     "exception": false,
     "start_time": "2025-06-23T17:45:47.232998",
     "status": "completed"
    },
    "tags": []
   },
   "outputs": [
    {
     "data": {
      "text/plain": [
       "'/kaggle/working'"
      ]
     },
     "execution_count": 3,
     "metadata": {},
     "output_type": "execute_result"
    }
   ],
   "source": [
    "pwd"
   ]
  },
  {
   "cell_type": "markdown",
   "id": "8469359b",
   "metadata": {
    "papermill": {
     "duration": 0.007646,
     "end_time": "2025-06-23T17:45:47.266136",
     "exception": false,
     "start_time": "2025-06-23T17:45:47.258490",
     "status": "completed"
    },
    "tags": []
   },
   "source": [
    "### Data Loading and Initial Inspection\n",
    "\n",
    "The Titanic training data (`train.csv`) and test data (`test.csv`) are loaded. The first five rows (`.head()`) and general information (`.info()`) of the datasets are displayed to get an initial understanding of data types and missing values.\n"
   ]
  },
  {
   "cell_type": "code",
   "execution_count": 4,
   "id": "6ab688c7",
   "metadata": {
    "execution": {
     "iopub.execute_input": "2025-06-23T17:45:47.283769Z",
     "iopub.status.busy": "2025-06-23T17:45:47.283438Z",
     "iopub.status.idle": "2025-06-23T17:45:47.336249Z",
     "shell.execute_reply": "2025-06-23T17:45:47.335098Z"
    },
    "papermill": {
     "duration": 0.063401,
     "end_time": "2025-06-23T17:45:47.337900",
     "exception": false,
     "start_time": "2025-06-23T17:45:47.274499",
     "status": "completed"
    },
    "tags": []
   },
   "outputs": [
    {
     "name": "stdout",
     "output_type": "stream",
     "text": [
      "First 5 Rows of Training Data:\n"
     ]
    },
    {
     "data": {
      "text/html": [
       "<div>\n",
       "<style scoped>\n",
       "    .dataframe tbody tr th:only-of-type {\n",
       "        vertical-align: middle;\n",
       "    }\n",
       "\n",
       "    .dataframe tbody tr th {\n",
       "        vertical-align: top;\n",
       "    }\n",
       "\n",
       "    .dataframe thead th {\n",
       "        text-align: right;\n",
       "    }\n",
       "</style>\n",
       "<table border=\"1\" class=\"dataframe\">\n",
       "  <thead>\n",
       "    <tr style=\"text-align: right;\">\n",
       "      <th></th>\n",
       "      <th>PassengerId</th>\n",
       "      <th>Survived</th>\n",
       "      <th>Pclass</th>\n",
       "      <th>Name</th>\n",
       "      <th>Sex</th>\n",
       "      <th>Age</th>\n",
       "      <th>SibSp</th>\n",
       "      <th>Parch</th>\n",
       "      <th>Ticket</th>\n",
       "      <th>Fare</th>\n",
       "      <th>Cabin</th>\n",
       "      <th>Embarked</th>\n",
       "    </tr>\n",
       "  </thead>\n",
       "  <tbody>\n",
       "    <tr>\n",
       "      <th>0</th>\n",
       "      <td>1</td>\n",
       "      <td>0</td>\n",
       "      <td>3</td>\n",
       "      <td>Braund, Mr. Owen Harris</td>\n",
       "      <td>male</td>\n",
       "      <td>22.0</td>\n",
       "      <td>1</td>\n",
       "      <td>0</td>\n",
       "      <td>A/5 21171</td>\n",
       "      <td>7.2500</td>\n",
       "      <td>NaN</td>\n",
       "      <td>S</td>\n",
       "    </tr>\n",
       "    <tr>\n",
       "      <th>1</th>\n",
       "      <td>2</td>\n",
       "      <td>1</td>\n",
       "      <td>1</td>\n",
       "      <td>Cumings, Mrs. John Bradley (Florence Briggs Th...</td>\n",
       "      <td>female</td>\n",
       "      <td>38.0</td>\n",
       "      <td>1</td>\n",
       "      <td>0</td>\n",
       "      <td>PC 17599</td>\n",
       "      <td>71.2833</td>\n",
       "      <td>C85</td>\n",
       "      <td>C</td>\n",
       "    </tr>\n",
       "    <tr>\n",
       "      <th>2</th>\n",
       "      <td>3</td>\n",
       "      <td>1</td>\n",
       "      <td>3</td>\n",
       "      <td>Heikkinen, Miss. Laina</td>\n",
       "      <td>female</td>\n",
       "      <td>26.0</td>\n",
       "      <td>0</td>\n",
       "      <td>0</td>\n",
       "      <td>STON/O2. 3101282</td>\n",
       "      <td>7.9250</td>\n",
       "      <td>NaN</td>\n",
       "      <td>S</td>\n",
       "    </tr>\n",
       "    <tr>\n",
       "      <th>3</th>\n",
       "      <td>4</td>\n",
       "      <td>1</td>\n",
       "      <td>1</td>\n",
       "      <td>Futrelle, Mrs. Jacques Heath (Lily May Peel)</td>\n",
       "      <td>female</td>\n",
       "      <td>35.0</td>\n",
       "      <td>1</td>\n",
       "      <td>0</td>\n",
       "      <td>113803</td>\n",
       "      <td>53.1000</td>\n",
       "      <td>C123</td>\n",
       "      <td>S</td>\n",
       "    </tr>\n",
       "    <tr>\n",
       "      <th>4</th>\n",
       "      <td>5</td>\n",
       "      <td>0</td>\n",
       "      <td>3</td>\n",
       "      <td>Allen, Mr. William Henry</td>\n",
       "      <td>male</td>\n",
       "      <td>35.0</td>\n",
       "      <td>0</td>\n",
       "      <td>0</td>\n",
       "      <td>373450</td>\n",
       "      <td>8.0500</td>\n",
       "      <td>NaN</td>\n",
       "      <td>S</td>\n",
       "    </tr>\n",
       "  </tbody>\n",
       "</table>\n",
       "</div>"
      ],
      "text/plain": [
       "   PassengerId  Survived  Pclass  \\\n",
       "0            1         0       3   \n",
       "1            2         1       1   \n",
       "2            3         1       3   \n",
       "3            4         1       1   \n",
       "4            5         0       3   \n",
       "\n",
       "                                                Name     Sex   Age  SibSp  \\\n",
       "0                            Braund, Mr. Owen Harris    male  22.0      1   \n",
       "1  Cumings, Mrs. John Bradley (Florence Briggs Th...  female  38.0      1   \n",
       "2                             Heikkinen, Miss. Laina  female  26.0      0   \n",
       "3       Futrelle, Mrs. Jacques Heath (Lily May Peel)  female  35.0      1   \n",
       "4                           Allen, Mr. William Henry    male  35.0      0   \n",
       "\n",
       "   Parch            Ticket     Fare Cabin Embarked  \n",
       "0      0         A/5 21171   7.2500   NaN        S  \n",
       "1      0          PC 17599  71.2833   C85        C  \n",
       "2      0  STON/O2. 3101282   7.9250   NaN        S  \n",
       "3      0            113803  53.1000  C123        S  \n",
       "4      0            373450   8.0500   NaN        S  "
      ]
     },
     "execution_count": 4,
     "metadata": {},
     "output_type": "execute_result"
    }
   ],
   "source": [
    "train_data = pd.read_csv('/kaggle/input/titanic/train.csv')\n",
    "\n",
    "print(\"First 5 Rows of Training Data:\")\n",
    "train_data.head()"
   ]
  },
  {
   "cell_type": "code",
   "execution_count": 5,
   "id": "22ad86e8",
   "metadata": {
    "execution": {
     "iopub.execute_input": "2025-06-23T17:45:47.355735Z",
     "iopub.status.busy": "2025-06-23T17:45:47.355417Z",
     "iopub.status.idle": "2025-06-23T17:45:47.381284Z",
     "shell.execute_reply": "2025-06-23T17:45:47.380113Z"
    },
    "papermill": {
     "duration": 0.036557,
     "end_time": "2025-06-23T17:45:47.382888",
     "exception": false,
     "start_time": "2025-06-23T17:45:47.346331",
     "status": "completed"
    },
    "tags": []
   },
   "outputs": [
    {
     "name": "stdout",
     "output_type": "stream",
     "text": [
      "\n",
      "Training Data Information:\n",
      "<class 'pandas.core.frame.DataFrame'>\n",
      "RangeIndex: 891 entries, 0 to 890\n",
      "Data columns (total 12 columns):\n",
      " #   Column       Non-Null Count  Dtype  \n",
      "---  ------       --------------  -----  \n",
      " 0   PassengerId  891 non-null    int64  \n",
      " 1   Survived     891 non-null    int64  \n",
      " 2   Pclass       891 non-null    int64  \n",
      " 3   Name         891 non-null    object \n",
      " 4   Sex          891 non-null    object \n",
      " 5   Age          714 non-null    float64\n",
      " 6   SibSp        891 non-null    int64  \n",
      " 7   Parch        891 non-null    int64  \n",
      " 8   Ticket       891 non-null    object \n",
      " 9   Fare         891 non-null    float64\n",
      " 10  Cabin        204 non-null    object \n",
      " 11  Embarked     889 non-null    object \n",
      "dtypes: float64(2), int64(5), object(5)\n",
      "memory usage: 83.7+ KB\n"
     ]
    }
   ],
   "source": [
    "print(\"\\nTraining Data Information:\")\n",
    "train_data.info()"
   ]
  },
  {
   "cell_type": "code",
   "execution_count": 6,
   "id": "6efeec8c",
   "metadata": {
    "execution": {
     "iopub.execute_input": "2025-06-23T17:45:47.400881Z",
     "iopub.status.busy": "2025-06-23T17:45:47.400556Z",
     "iopub.status.idle": "2025-06-23T17:45:47.428309Z",
     "shell.execute_reply": "2025-06-23T17:45:47.427350Z"
    },
    "papermill": {
     "duration": 0.038494,
     "end_time": "2025-06-23T17:45:47.429869",
     "exception": false,
     "start_time": "2025-06-23T17:45:47.391375",
     "status": "completed"
    },
    "tags": []
   },
   "outputs": [
    {
     "data": {
      "text/html": [
       "<div>\n",
       "<style scoped>\n",
       "    .dataframe tbody tr th:only-of-type {\n",
       "        vertical-align: middle;\n",
       "    }\n",
       "\n",
       "    .dataframe tbody tr th {\n",
       "        vertical-align: top;\n",
       "    }\n",
       "\n",
       "    .dataframe thead th {\n",
       "        text-align: right;\n",
       "    }\n",
       "</style>\n",
       "<table border=\"1\" class=\"dataframe\">\n",
       "  <thead>\n",
       "    <tr style=\"text-align: right;\">\n",
       "      <th></th>\n",
       "      <th>PassengerId</th>\n",
       "      <th>Survived</th>\n",
       "      <th>Pclass</th>\n",
       "      <th>Age</th>\n",
       "      <th>SibSp</th>\n",
       "      <th>Parch</th>\n",
       "      <th>Fare</th>\n",
       "    </tr>\n",
       "  </thead>\n",
       "  <tbody>\n",
       "    <tr>\n",
       "      <th>count</th>\n",
       "      <td>891.000000</td>\n",
       "      <td>891.000000</td>\n",
       "      <td>891.000000</td>\n",
       "      <td>714.000000</td>\n",
       "      <td>891.000000</td>\n",
       "      <td>891.000000</td>\n",
       "      <td>891.000000</td>\n",
       "    </tr>\n",
       "    <tr>\n",
       "      <th>mean</th>\n",
       "      <td>446.000000</td>\n",
       "      <td>0.383838</td>\n",
       "      <td>2.308642</td>\n",
       "      <td>29.699118</td>\n",
       "      <td>0.523008</td>\n",
       "      <td>0.381594</td>\n",
       "      <td>32.204208</td>\n",
       "    </tr>\n",
       "    <tr>\n",
       "      <th>std</th>\n",
       "      <td>257.353842</td>\n",
       "      <td>0.486592</td>\n",
       "      <td>0.836071</td>\n",
       "      <td>14.526497</td>\n",
       "      <td>1.102743</td>\n",
       "      <td>0.806057</td>\n",
       "      <td>49.693429</td>\n",
       "    </tr>\n",
       "    <tr>\n",
       "      <th>min</th>\n",
       "      <td>1.000000</td>\n",
       "      <td>0.000000</td>\n",
       "      <td>1.000000</td>\n",
       "      <td>0.420000</td>\n",
       "      <td>0.000000</td>\n",
       "      <td>0.000000</td>\n",
       "      <td>0.000000</td>\n",
       "    </tr>\n",
       "    <tr>\n",
       "      <th>25%</th>\n",
       "      <td>223.500000</td>\n",
       "      <td>0.000000</td>\n",
       "      <td>2.000000</td>\n",
       "      <td>20.125000</td>\n",
       "      <td>0.000000</td>\n",
       "      <td>0.000000</td>\n",
       "      <td>7.910400</td>\n",
       "    </tr>\n",
       "    <tr>\n",
       "      <th>50%</th>\n",
       "      <td>446.000000</td>\n",
       "      <td>0.000000</td>\n",
       "      <td>3.000000</td>\n",
       "      <td>28.000000</td>\n",
       "      <td>0.000000</td>\n",
       "      <td>0.000000</td>\n",
       "      <td>14.454200</td>\n",
       "    </tr>\n",
       "    <tr>\n",
       "      <th>75%</th>\n",
       "      <td>668.500000</td>\n",
       "      <td>1.000000</td>\n",
       "      <td>3.000000</td>\n",
       "      <td>38.000000</td>\n",
       "      <td>1.000000</td>\n",
       "      <td>0.000000</td>\n",
       "      <td>31.000000</td>\n",
       "    </tr>\n",
       "    <tr>\n",
       "      <th>max</th>\n",
       "      <td>891.000000</td>\n",
       "      <td>1.000000</td>\n",
       "      <td>3.000000</td>\n",
       "      <td>80.000000</td>\n",
       "      <td>8.000000</td>\n",
       "      <td>6.000000</td>\n",
       "      <td>512.329200</td>\n",
       "    </tr>\n",
       "  </tbody>\n",
       "</table>\n",
       "</div>"
      ],
      "text/plain": [
       "       PassengerId    Survived      Pclass         Age       SibSp  \\\n",
       "count   891.000000  891.000000  891.000000  714.000000  891.000000   \n",
       "mean    446.000000    0.383838    2.308642   29.699118    0.523008   \n",
       "std     257.353842    0.486592    0.836071   14.526497    1.102743   \n",
       "min       1.000000    0.000000    1.000000    0.420000    0.000000   \n",
       "25%     223.500000    0.000000    2.000000   20.125000    0.000000   \n",
       "50%     446.000000    0.000000    3.000000   28.000000    0.000000   \n",
       "75%     668.500000    1.000000    3.000000   38.000000    1.000000   \n",
       "max     891.000000    1.000000    3.000000   80.000000    8.000000   \n",
       "\n",
       "            Parch        Fare  \n",
       "count  891.000000  891.000000  \n",
       "mean     0.381594   32.204208  \n",
       "std      0.806057   49.693429  \n",
       "min      0.000000    0.000000  \n",
       "25%      0.000000    7.910400  \n",
       "50%      0.000000   14.454200  \n",
       "75%      0.000000   31.000000  \n",
       "max      6.000000  512.329200  "
      ]
     },
     "execution_count": 6,
     "metadata": {},
     "output_type": "execute_result"
    }
   ],
   "source": [
    "train_data.describe()"
   ]
  },
  {
   "cell_type": "markdown",
   "id": "8859c560",
   "metadata": {
    "papermill": {
     "duration": 0.007913,
     "end_time": "2025-06-23T17:45:47.446224",
     "exception": false,
     "start_time": "2025-06-23T17:45:47.438311",
     "status": "completed"
    },
    "tags": []
   },
   "source": [
    "### Missing Value Analysis and Cleaning\n",
    "\n",
    "Missing values in the dataset are checked and handled. Missing values in the 'Age' column are filled with the median, and those in the 'Embarked' column are filled with the most frequent value (mode). The 'Cabin' column is dropped entirely due to a high number of missing values.\n"
   ]
  },
  {
   "cell_type": "code",
   "execution_count": 7,
   "id": "6f493387",
   "metadata": {
    "execution": {
     "iopub.execute_input": "2025-06-23T17:45:47.464225Z",
     "iopub.status.busy": "2025-06-23T17:45:47.463860Z",
     "iopub.status.idle": "2025-06-23T17:45:47.472945Z",
     "shell.execute_reply": "2025-06-23T17:45:47.471820Z"
    },
    "papermill": {
     "duration": 0.019849,
     "end_time": "2025-06-23T17:45:47.474428",
     "exception": false,
     "start_time": "2025-06-23T17:45:47.454579",
     "status": "completed"
    },
    "tags": []
   },
   "outputs": [
    {
     "name": "stdout",
     "output_type": "stream",
     "text": [
      "Missing Values in Training Data:\n"
     ]
    },
    {
     "data": {
      "text/plain": [
       "PassengerId      0\n",
       "Survived         0\n",
       "Pclass           0\n",
       "Name             0\n",
       "Sex              0\n",
       "Age            177\n",
       "SibSp            0\n",
       "Parch            0\n",
       "Ticket           0\n",
       "Fare             0\n",
       "Cabin          687\n",
       "Embarked         2\n",
       "dtype: int64"
      ]
     },
     "execution_count": 7,
     "metadata": {},
     "output_type": "execute_result"
    }
   ],
   "source": [
    "print(\"Missing Values in Training Data:\")\n",
    "train_data.isnull().sum()"
   ]
  },
  {
   "cell_type": "code",
   "execution_count": 8,
   "id": "f19f9b8e",
   "metadata": {
    "execution": {
     "iopub.execute_input": "2025-06-23T17:45:47.493173Z",
     "iopub.status.busy": "2025-06-23T17:45:47.492786Z",
     "iopub.status.idle": "2025-06-23T17:45:47.506074Z",
     "shell.execute_reply": "2025-06-23T17:45:47.504865Z"
    },
    "papermill": {
     "duration": 0.024537,
     "end_time": "2025-06-23T17:45:47.507569",
     "exception": false,
     "start_time": "2025-06-23T17:45:47.483032",
     "status": "completed"
    },
    "tags": []
   },
   "outputs": [
    {
     "name": "stderr",
     "output_type": "stream",
     "text": [
      "/tmp/ipykernel_13/2309056883.py:3: FutureWarning: A value is trying to be set on a copy of a DataFrame or Series through chained assignment using an inplace method.\n",
      "The behavior will change in pandas 3.0. This inplace method will never work because the intermediate object on which we are setting values always behaves as a copy.\n",
      "\n",
      "For example, when doing 'df[col].method(value, inplace=True)', try using 'df.method({col: value}, inplace=True)' or df[col] = df[col].method(value) instead, to perform the operation inplace on the original object.\n",
      "\n",
      "\n",
      "  train_data['Age'].fillna(age_median, inplace=True)\n",
      "/tmp/ipykernel_13/2309056883.py:10: FutureWarning: A value is trying to be set on a copy of a DataFrame or Series through chained assignment using an inplace method.\n",
      "The behavior will change in pandas 3.0. This inplace method will never work because the intermediate object on which we are setting values always behaves as a copy.\n",
      "\n",
      "For example, when doing 'df[col].method(value, inplace=True)', try using 'df.method({col: value}, inplace=True)' or df[col] = df[col].method(value) instead, to perform the operation inplace on the original object.\n",
      "\n",
      "\n",
      "  train_data['Embarked'].fillna(embarked_mode, inplace=True)\n"
     ]
    }
   ],
   "source": [
    "# Fill missing values in the 'Age' column with the median\n",
    "age_median = train_data['Age'].median()\n",
    "train_data['Age'].fillna(age_median, inplace=True)\n",
    "\n",
    "# Drop the 'Cabin' column\n",
    "train_data.drop('Cabin', axis=1, inplace=True)\n",
    "\n",
    "# Fill missing values in the 'Embarked' column with the mode\n",
    "embarked_mode = train_data['Embarked'].mode()[0]\n",
    "train_data['Embarked'].fillna(embarked_mode, inplace=True)"
   ]
  },
  {
   "cell_type": "markdown",
   "id": "c005fd20",
   "metadata": {
    "papermill": {
     "duration": 0.008143,
     "end_time": "2025-06-23T17:45:47.524552",
     "exception": false,
     "start_time": "2025-06-23T17:45:47.516409",
     "status": "completed"
    },
    "tags": []
   },
   "source": [
    "Let's verify if the missing values have been successfully processed:\n"
   ]
  },
  {
   "cell_type": "code",
   "execution_count": 9,
   "id": "7eeac7c7",
   "metadata": {
    "execution": {
     "iopub.execute_input": "2025-06-23T17:45:47.542780Z",
     "iopub.status.busy": "2025-06-23T17:45:47.542480Z",
     "iopub.status.idle": "2025-06-23T17:45:47.551367Z",
     "shell.execute_reply": "2025-06-23T17:45:47.550412Z"
    },
    "papermill": {
     "duration": 0.019974,
     "end_time": "2025-06-23T17:45:47.552849",
     "exception": false,
     "start_time": "2025-06-23T17:45:47.532875",
     "status": "completed"
    },
    "tags": []
   },
   "outputs": [
    {
     "name": "stdout",
     "output_type": "stream",
     "text": [
      "\n",
      "After Filling Missing Values:\n"
     ]
    },
    {
     "data": {
      "text/plain": [
       "PassengerId    0\n",
       "Survived       0\n",
       "Pclass         0\n",
       "Name           0\n",
       "Sex            0\n",
       "Age            0\n",
       "SibSp          0\n",
       "Parch          0\n",
       "Ticket         0\n",
       "Fare           0\n",
       "Embarked       0\n",
       "dtype: int64"
      ]
     },
     "execution_count": 9,
     "metadata": {},
     "output_type": "execute_result"
    }
   ],
   "source": [
    "print(\"\\nAfter Filling Missing Values:\")\n",
    "train_data.isnull().sum()"
   ]
  },
  {
   "cell_type": "markdown",
   "id": "64e07bc5",
   "metadata": {
    "papermill": {
     "duration": 0.008348,
     "end_time": "2025-06-23T17:45:47.569835",
     "exception": false,
     "start_time": "2025-06-23T17:45:47.561487",
     "status": "completed"
    },
    "tags": []
   },
   "source": [
    "### Exploratory Data Analysis (EDA)\n",
    "\n",
    "Survival rates are analyzed based on various categorical features to uncover important relationships.\n",
    "\n",
    "#### Survival Rate by Sex\n",
    "\n",
    "It is observed that female passengers have a significantly higher survival rate compared to males."
   ]
  },
  {
   "cell_type": "code",
   "execution_count": 10,
   "id": "7baf15a3",
   "metadata": {
    "execution": {
     "iopub.execute_input": "2025-06-23T17:45:47.588596Z",
     "iopub.status.busy": "2025-06-23T17:45:47.588154Z",
     "iopub.status.idle": "2025-06-23T17:45:47.596880Z",
     "shell.execute_reply": "2025-06-23T17:45:47.595687Z"
    },
    "papermill": {
     "duration": 0.020083,
     "end_time": "2025-06-23T17:45:47.598418",
     "exception": false,
     "start_time": "2025-06-23T17:45:47.578335",
     "status": "completed"
    },
    "tags": []
   },
   "outputs": [
    {
     "name": "stdout",
     "output_type": "stream",
     "text": [
      "Passenger Count by Sex:\n"
     ]
    },
    {
     "data": {
      "text/plain": [
       "Sex\n",
       "male      577\n",
       "female    314\n",
       "Name: count, dtype: int64"
      ]
     },
     "execution_count": 10,
     "metadata": {},
     "output_type": "execute_result"
    }
   ],
   "source": [
    "print(\"Passenger Count by Sex:\")\n",
    "train_data['Sex'].value_counts()"
   ]
  },
  {
   "cell_type": "code",
   "execution_count": 11,
   "id": "8fe9aea6",
   "metadata": {
    "execution": {
     "iopub.execute_input": "2025-06-23T17:45:47.617492Z",
     "iopub.status.busy": "2025-06-23T17:45:47.617167Z",
     "iopub.status.idle": "2025-06-23T17:45:47.627232Z",
     "shell.execute_reply": "2025-06-23T17:45:47.626262Z"
    },
    "papermill": {
     "duration": 0.021507,
     "end_time": "2025-06-23T17:45:47.628924",
     "exception": false,
     "start_time": "2025-06-23T17:45:47.607417",
     "status": "completed"
    },
    "tags": []
   },
   "outputs": [
    {
     "name": "stdout",
     "output_type": "stream",
     "text": [
      "\n",
      "Survival Rate by Sex:\n"
     ]
    },
    {
     "data": {
      "text/plain": [
       "Sex\n",
       "female    0.742038\n",
       "male      0.188908\n",
       "Name: Survived, dtype: float64"
      ]
     },
     "execution_count": 11,
     "metadata": {},
     "output_type": "execute_result"
    }
   ],
   "source": [
    "print(\"\\nSurvival Rate by Sex:\")\n",
    "train_data.groupby('Sex')['Survived'].mean()"
   ]
  },
  {
   "cell_type": "code",
   "execution_count": 12,
   "id": "b8ef8bb5",
   "metadata": {
    "execution": {
     "iopub.execute_input": "2025-06-23T17:45:47.648690Z",
     "iopub.status.busy": "2025-06-23T17:45:47.648333Z",
     "iopub.status.idle": "2025-06-23T17:45:47.918454Z",
     "shell.execute_reply": "2025-06-23T17:45:47.917324Z"
    },
    "papermill": {
     "duration": 0.281806,
     "end_time": "2025-06-23T17:45:47.919953",
     "exception": false,
     "start_time": "2025-06-23T17:45:47.638147",
     "status": "completed"
    },
    "tags": []
   },
   "outputs": [
    {
     "data": {
      "image/png": "[encoded data removed]",
      "text/plain": [
       "<Figure size 600x400 with 1 Axes>"
      ]
     },
     "metadata": {},
     "output_type": "display_data"
    }
   ],
   "source": [
    "plt.figure(figsize=(6, 4))\n",
    "sns.barplot(y=\"Survived\", hue=\"Sex\", data=train_data,  palette='viridis')\n",
    "plt.title(\"Survival Rate by Sex\")\n",
    "plt.xlabel(\"Sex\")\n",
    "plt.ylabel(\"Survival Rate\")\n",
    "plt.show()"
   ]
  },
  {
   "cell_type": "markdown",
   "id": "2abb61af",
   "metadata": {
    "papermill": {
     "duration": 0.079464,
     "end_time": "2025-06-23T17:45:48.009591",
     "exception": false,
     "start_time": "2025-06-23T17:45:47.930127",
     "status": "completed"
    },
    "tags": []
   },
   "source": [
    "#### Survival Rate by Passenger Class (Pclass)\n",
    "\n",
    "Passengers in higher classes (Pclass 1) are seen to have a notably higher survival rate than those in lower classes (Pclass 3).\n"
   ]
  },
  {
   "cell_type": "code",
   "execution_count": 13,
   "id": "fbe943e7",
   "metadata": {
    "execution": {
     "iopub.execute_input": "2025-06-23T17:45:48.030587Z",
     "iopub.status.busy": "2025-06-23T17:45:48.030270Z",
     "iopub.status.idle": "2025-06-23T17:45:48.040767Z",
     "shell.execute_reply": "2025-06-23T17:45:48.039381Z"
    },
    "papermill": {
     "duration": 0.023472,
     "end_time": "2025-06-23T17:45:48.042682",
     "exception": false,
     "start_time": "2025-06-23T17:45:48.019210",
     "status": "completed"
    },
    "tags": []
   },
   "outputs": [
    {
     "name": "stdout",
     "output_type": "stream",
     "text": [
      "Passenger Count by Pclass:\n"
     ]
    },
    {
     "data": {
      "text/plain": [
       "Pclass\n",
       "3    491\n",
       "1    216\n",
       "2    184\n",
       "Name: count, dtype: int64"
      ]
     },
     "execution_count": 13,
     "metadata": {},
     "output_type": "execute_result"
    }
   ],
   "source": [
    "print(\"Passenger Count by Pclass:\")\n",
    "train_data['Pclass'].value_counts()"
   ]
  },
  {
   "cell_type": "code",
   "execution_count": 14,
   "id": "a1ebb805",
   "metadata": {
    "execution": {
     "iopub.execute_input": "2025-06-23T17:45:48.063957Z",
     "iopub.status.busy": "2025-06-23T17:45:48.063663Z",
     "iopub.status.idle": "2025-06-23T17:45:48.073241Z",
     "shell.execute_reply": "2025-06-23T17:45:48.072104Z"
    },
    "papermill": {
     "duration": 0.021867,
     "end_time": "2025-06-23T17:45:48.074835",
     "exception": false,
     "start_time": "2025-06-23T17:45:48.052968",
     "status": "completed"
    },
    "tags": []
   },
   "outputs": [
    {
     "name": "stdout",
     "output_type": "stream",
     "text": [
      "\n",
      "Survival Rate by Pclass:\n"
     ]
    },
    {
     "data": {
      "text/plain": [
       "Pclass\n",
       "1    0.629630\n",
       "2    0.472826\n",
       "3    0.242363\n",
       "Name: Survived, dtype: float64"
      ]
     },
     "execution_count": 14,
     "metadata": {},
     "output_type": "execute_result"
    }
   ],
   "source": [
    "print(\"\\nSurvival Rate by Pclass:\")\n",
    "train_data.groupby('Pclass')['Survived'].mean()"
   ]
  },
  {
   "cell_type": "code",
   "execution_count": 15,
   "id": "b4cd1e89",
   "metadata": {
    "execution": {
     "iopub.execute_input": "2025-06-23T17:45:48.095832Z",
     "iopub.status.busy": "2025-06-23T17:45:48.095488Z",
     "iopub.status.idle": "2025-06-23T17:45:48.296241Z",
     "shell.execute_reply": "2025-06-23T17:45:48.295144Z"
    },
    "papermill": {
     "duration": 0.213093,
     "end_time": "2025-06-23T17:45:48.297880",
     "exception": false,
     "start_time": "2025-06-23T17:45:48.084787",
     "status": "completed"
    },
    "tags": []
   },
   "outputs": [
    {
     "data": {
      "image/png": "[encoded data removed]",
      "text/plain": [
       "<Figure size 640x480 with 1 Axes>"
      ]
     },
     "metadata": {},
     "output_type": "display_data"
    }
   ],
   "source": [
    "sns.barplot(x=\"Sex\", y=\"Survived\", data=train_data)\n",
    "plt.title(\"Survival Rate \")\n",
    "plt.show()"
   ]
  },
  {
   "cell_type": "code",
   "execution_count": 16,
   "id": "ff76d9b5",
   "metadata": {
    "execution": {
     "iopub.execute_input": "2025-06-23T17:45:48.320439Z",
     "iopub.status.busy": "2025-06-23T17:45:48.319427Z",
     "iopub.status.idle": "2025-06-23T17:45:48.489892Z",
     "shell.execute_reply": "2025-06-23T17:45:48.488846Z"
    },
    "papermill": {
     "duration": 0.183377,
     "end_time": "2025-06-23T17:45:48.491694",
     "exception": false,
     "start_time": "2025-06-23T17:45:48.308317",
     "status": "completed"
    },
    "tags": []
   },
   "outputs": [
    {
     "data": {
      "image/png": "[encoded data removed]",
      "text/plain": [
       "<Figure size 600x400 with 1 Axes>"
      ]
     },
     "metadata": {},
     "output_type": "display_data"
    }
   ],
   "source": [
    "plt.figure(figsize=(6, 4))\n",
    "sns.barplot(hue=\"Pclass\", y=\"Survived\", data=train_data, palette='magma')\n",
    "plt.title(\"Survival Rate by Pclass\")\n",
    "plt.xlabel(\"Passenger Class\")\n",
    "plt.ylabel(\"Survival Rate\")\n",
    "plt.show()"
   ]
  },
  {
   "cell_type": "markdown",
   "id": "3e343b35",
   "metadata": {
    "papermill": {
     "duration": 0.010818,
     "end_time": "2025-06-23T17:45:48.514177",
     "exception": false,
     "start_time": "2025-06-23T17:45:48.503359",
     "status": "completed"
    },
    "tags": []
   },
   "source": [
    "#### Impact of Age and Fare on Survival\n",
    "\n",
    "A scatter plot is used to examine the relationship between ticket fare and age, and how this relationship affects survival. Additionally, the distribution of ticket fare is visualized with a box plot.\n"
   ]
  },
  {
   "cell_type": "code",
   "execution_count": 17,
   "id": "c7278885",
   "metadata": {
    "execution": {
     "iopub.execute_input": "2025-06-23T17:45:48.537548Z",
     "iopub.status.busy": "2025-06-23T17:45:48.537183Z",
     "iopub.status.idle": "2025-06-23T17:45:48.830902Z",
     "shell.execute_reply": "2025-06-23T17:45:48.829841Z"
    },
    "papermill": {
     "duration": 0.307146,
     "end_time": "2025-06-23T17:45:48.832457",
     "exception": false,
     "start_time": "2025-06-23T17:45:48.525311",
     "status": "completed"
    },
    "tags": []
   },
   "outputs": [
    {
     "data": {
      "image/png": "[encoded data removed]",
      "text/plain": [
       "<Figure size 1000x600 with 1 Axes>"
      ]
     },
     "metadata": {},
     "output_type": "display_data"
    }
   ],
   "source": [
    "plt.figure(figsize=(10, 6))\n",
    "sns.scatterplot(x='Age', y='Fare', hue='Survived', data=train_data, palette='coolwarm', alpha=0.7)\n",
    "plt.title(\"Age vs Fare by Survival\")\n",
    "plt.xlabel(\"Age\")\n",
    "plt.ylabel(\"Fare\")\n",
    "plt.show()"
   ]
  },
  {
   "cell_type": "code",
   "execution_count": 18,
   "id": "adce99d5",
   "metadata": {
    "execution": {
     "iopub.execute_input": "2025-06-23T17:45:48.858249Z",
     "iopub.status.busy": "2025-06-23T17:45:48.857842Z",
     "iopub.status.idle": "2025-06-23T17:45:48.989215Z",
     "shell.execute_reply": "2025-06-23T17:45:48.988027Z"
    },
    "papermill": {
     "duration": 0.145865,
     "end_time": "2025-06-23T17:45:48.991096",
     "exception": false,
     "start_time": "2025-06-23T17:45:48.845231",
     "status": "completed"
    },
    "tags": []
   },
   "outputs": [
    {
     "data": {
      "image/png": "[encoded data removed]",
      "text/plain": [
       "<Figure size 800x600 with 1 Axes>"
      ]
     },
     "metadata": {},
     "output_type": "display_data"
    }
   ],
   "source": [
    "plt.figure(figsize=(8, 6))\n",
    "sns.boxplot(x='Age', data=train_data, palette='pastel')\n",
    "plt.title(\"Age Distribution\")\n",
    "plt.xlabel(\"Age\")\n",
    "plt.show()"
   ]
  },
  {
   "cell_type": "code",
   "execution_count": 19,
   "id": "31fc049a",
   "metadata": {
    "execution": {
     "iopub.execute_input": "2025-06-23T17:45:49.016964Z",
     "iopub.status.busy": "2025-06-23T17:45:49.016031Z",
     "iopub.status.idle": "2025-06-23T17:45:49.131022Z",
     "shell.execute_reply": "2025-06-23T17:45:49.129852Z"
    },
    "papermill": {
     "duration": 0.129756,
     "end_time": "2025-06-23T17:45:49.132885",
     "exception": false,
     "start_time": "2025-06-23T17:45:49.003129",
     "status": "completed"
    },
    "tags": []
   },
   "outputs": [
    {
     "data": {
      "image/png": "[encoded data removed]",
      "text/plain": [
       "<Figure size 800x600 with 1 Axes>"
      ]
     },
     "metadata": {},
     "output_type": "display_data"
    }
   ],
   "source": [
    "plt.figure(figsize=(8, 6))\n",
    "sns.boxplot(x='Fare', data=train_data, palette='pastel')\n",
    "plt.title(\"Fare Distribution\")\n",
    "plt.xlabel(\"Fare\")\n",
    "plt.show()"
   ]
  },
  {
   "cell_type": "markdown",
   "id": "6f62b10e",
   "metadata": {
    "papermill": {
     "duration": 0.012051,
     "end_time": "2025-06-23T17:45:49.158384",
     "exception": false,
     "start_time": "2025-06-23T17:45:49.146333",
     "status": "completed"
    },
    "tags": []
   },
   "source": [
    "### Feature Engineering\n",
    "\n",
    "New features are created and existing ones are transformed to improve model performance.\n",
    "\n",
    "#### Fare Transformation\n",
    "\n",
    "A logarithmic transformation is applied to the 'Fare' column to correct its skewed distribution. This can help the model learn this feature more effectively.\n"
   ]
  },
  {
   "cell_type": "code",
   "execution_count": 20,
   "id": "462bd40c",
   "metadata": {
    "execution": {
     "iopub.execute_input": "2025-06-23T17:45:49.184245Z",
     "iopub.status.busy": "2025-06-23T17:45:49.183854Z",
     "iopub.status.idle": "2025-06-23T17:45:49.196687Z",
     "shell.execute_reply": "2025-06-23T17:45:49.195697Z"
    },
    "papermill": {
     "duration": 0.027739,
     "end_time": "2025-06-23T17:45:49.198450",
     "exception": false,
     "start_time": "2025-06-23T17:45:49.170711",
     "status": "completed"
    },
    "tags": []
   },
   "outputs": [],
   "source": [
    "train_data['Fare'] = np.log1p(train_data['Fare'])"
   ]
  },
  {
   "cell_type": "markdown",
   "id": "728cadce",
   "metadata": {
    "papermill": {
     "duration": 0.01237,
     "end_time": "2025-06-23T17:45:49.223270",
     "exception": false,
     "start_time": "2025-06-23T17:45:49.210900",
     "status": "completed"
    },
    "tags": []
   },
   "source": [
    "Examination of the fare distribution after the transformation using a box plot:"
   ]
  },
  {
   "cell_type": "code",
   "execution_count": 21,
   "id": "0ed9c896",
   "metadata": {
    "execution": {
     "iopub.execute_input": "2025-06-23T17:45:49.251076Z",
     "iopub.status.busy": "2025-06-23T17:45:49.250736Z",
     "iopub.status.idle": "2025-06-23T17:45:49.371421Z",
     "shell.execute_reply": "2025-06-23T17:45:49.370464Z"
    },
    "papermill": {
     "duration": 0.136327,
     "end_time": "2025-06-23T17:45:49.372994",
     "exception": false,
     "start_time": "2025-06-23T17:45:49.236667",
     "status": "completed"
    },
    "tags": []
   },
   "outputs": [
    {
     "data": {
      "image/png": "[encoded data removed]",
      "text/plain": [
       "<Figure size 640x480 with 1 Axes>"
      ]
     },
     "metadata": {},
     "output_type": "display_data"
    }
   ],
   "source": [
    "sns.boxplot(x=\"Fare\", data=train_data)\n",
    "plt.title(\"Fare Distribution\")\n",
    "plt.show()"
   ]
  },
  {
   "cell_type": "markdown",
   "id": "0a33e29a",
   "metadata": {
    "papermill": {
     "duration": 0.011957,
     "end_time": "2025-06-23T17:45:49.397554",
     "exception": false,
     "start_time": "2025-06-23T17:45:49.385597",
     "status": "completed"
    },
    "tags": []
   },
   "source": [
    "Examination of the 'SibSp' distribution using a box plot:"
   ]
  },
  {
   "cell_type": "code",
   "execution_count": 22,
   "id": "5ca4f6d7",
   "metadata": {
    "execution": {
     "iopub.execute_input": "2025-06-23T17:45:49.423462Z",
     "iopub.status.busy": "2025-06-23T17:45:49.423133Z",
     "iopub.status.idle": "2025-06-23T17:45:49.547482Z",
     "shell.execute_reply": "2025-06-23T17:45:49.546701Z"
    },
    "papermill": {
     "duration": 0.139294,
     "end_time": "2025-06-23T17:45:49.549073",
     "exception": false,
     "start_time": "2025-06-23T17:45:49.409779",
     "status": "completed"
    },
    "tags": []
   },
   "outputs": [
    {
     "data": {
      "image/png": "[encoded data removed]",
      "text/plain": [
       "<Figure size 800x600 with 1 Axes>"
      ]
     },
     "metadata": {},
     "output_type": "display_data"
    }
   ],
   "source": [
    "plt.figure(figsize=(8, 6))\n",
    "sns.boxplot(x='SibSp', data=train_data, )\n",
    "plt.title(\"SibSp Distribution\")\n",
    "plt.xlabel(\"SibSp\")\n",
    "plt.show()"
   ]
  },
  {
   "cell_type": "markdown",
   "id": "b55ca6de",
   "metadata": {
    "papermill": {
     "duration": 0.012377,
     "end_time": "2025-06-23T17:45:49.577732",
     "exception": false,
     "start_time": "2025-06-23T17:45:49.565355",
     "status": "completed"
    },
    "tags": []
   },
   "source": [
    "#### One-Hot Encoding of Categorical Variables\n",
    "\n",
    "Categorical columns like 'Sex', 'Embarked', and 'Pclass' are converted into a numerical format that machine learning models can understand. One-Hot Encoding is applied using `pd.get_dummies`, and the first column is dropped (`drop_first=True`) to prevent multicollinearity.\n"
   ]
  },
  {
   "cell_type": "code",
   "execution_count": 23,
   "id": "8f597e43",
   "metadata": {
    "execution": {
     "iopub.execute_input": "2025-06-23T17:45:49.605215Z",
     "iopub.status.busy": "2025-06-23T17:45:49.604845Z",
     "iopub.status.idle": "2025-06-23T17:45:49.615677Z",
     "shell.execute_reply": "2025-06-23T17:45:49.614737Z"
    },
    "papermill": {
     "duration": 0.026614,
     "end_time": "2025-06-23T17:45:49.617464",
     "exception": false,
     "start_time": "2025-06-23T17:45:49.590850",
     "status": "completed"
    },
    "tags": []
   },
   "outputs": [],
   "source": [
    "categorical_cols = [\"Sex\", \"Embarked\", \"Pclass\"]\n",
    "train_data = pd.get_dummies(train_data, columns=categorical_cols, drop_first=True)"
   ]
  },
  {
   "cell_type": "markdown",
   "id": "00d7ce75",
   "metadata": {
    "papermill": {
     "duration": 0.012851,
     "end_time": "2025-06-23T17:45:49.642950",
     "exception": false,
     "start_time": "2025-06-23T17:45:49.630099",
     "status": "completed"
    },
    "tags": []
   },
   "source": [
    "#### Title Extraction and Transformation\n",
    "\n",
    "'Title' information is extracted from passenger names, and less common titles are grouped under a 'Rare' category. This new 'Title' column is then also transformed using One-Hot Encoding.\n"
   ]
  },
  {
   "cell_type": "code",
   "execution_count": 24,
   "id": "655b1b6d",
   "metadata": {
    "execution": {
     "iopub.execute_input": "2025-06-23T17:45:49.669937Z",
     "iopub.status.busy": "2025-06-23T17:45:49.669575Z",
     "iopub.status.idle": "2025-06-23T17:45:49.678355Z",
     "shell.execute_reply": "2025-06-23T17:45:49.677484Z"
    },
    "papermill": {
     "duration": 0.023902,
     "end_time": "2025-06-23T17:45:49.679764",
     "exception": false,
     "start_time": "2025-06-23T17:45:49.655862",
     "status": "completed"
    },
    "tags": []
   },
   "outputs": [],
   "source": [
    "# Extract title from 'Name' column\n",
    "train_data['Title'] = train_data['Name'].apply(\n",
    "    lambda name: re.search(r' ([A-Za-z]+)\\.', name).group(1) if re.search(r' ([A-Za-z]+)\\.', name) else ''\n",
    ")"
   ]
  },
  {
   "cell_type": "code",
   "execution_count": 25,
   "id": "e1a03ac3",
   "metadata": {
    "execution": {
     "iopub.execute_input": "2025-06-23T17:45:49.706486Z",
     "iopub.status.busy": "2025-06-23T17:45:49.706190Z",
     "iopub.status.idle": "2025-06-23T17:45:49.717309Z",
     "shell.execute_reply": "2025-06-23T17:45:49.716358Z"
    },
    "papermill": {
     "duration": 0.026327,
     "end_time": "2025-06-23T17:45:49.718736",
     "exception": false,
     "start_time": "2025-06-23T17:45:49.692409",
     "status": "completed"
    },
    "tags": []
   },
   "outputs": [
    {
     "name": "stdout",
     "output_type": "stream",
     "text": [
      "Unique Values in Title Column After Transformation:\n",
      "['Mr' 'Mrs' 'Miss' 'Master' 'Rare']\n"
     ]
    }
   ],
   "source": [
    "# Map rare titles\n",
    "title_map = {\n",
    "    \"Mlle\": \"Miss\", \"Ms\": \"Miss\", \"Mme\": \"Mrs\",\n",
    "    \"Lady\": \"Rare\", \"Countess\": \"Rare\", \"Capt\": \"Rare\", \"Col\": \"Rare\",\n",
    "    \"Don\": \"Rare\", \"Dr\": \"Rare\", \"Major\": \"Rare\", \"Rev\": \"Rare\",\n",
    "    \"Sir\": \"Rare\", \"Jonkheer\": \"Rare\", \"Dona\": \"Rare\" # \n",
    "}\n",
    "train_data['Title'] = train_data['Title'].replace(title_map)\n",
    "\n",
    "# Check unique values of the 'Title' column after transformation\n",
    "print(\"Unique Values in Title Column After Transformation:\")\n",
    "print(train_data.Title.unique())"
   ]
  },
  {
   "cell_type": "markdown",
   "id": "57489b7a",
   "metadata": {
    "papermill": {
     "duration": 0.012548,
     "end_time": "2025-06-23T17:45:49.744211",
     "exception": false,
     "start_time": "2025-06-23T17:45:49.731663",
     "status": "completed"
    },
    "tags": []
   },
   "source": [
    "Transforming the 'Title' column with One-Hot Encoding:"
   ]
  },
  {
   "cell_type": "code",
   "execution_count": 26,
   "id": "cbbb209a",
   "metadata": {
    "execution": {
     "iopub.execute_input": "2025-06-23T17:45:49.772292Z",
     "iopub.status.busy": "2025-06-23T17:45:49.771949Z",
     "iopub.status.idle": "2025-06-23T17:45:49.783252Z",
     "shell.execute_reply": "2025-06-23T17:45:49.782035Z"
    },
    "papermill": {
     "duration": 0.026984,
     "end_time": "2025-06-23T17:45:49.784909",
     "exception": false,
     "start_time": "2025-06-23T17:45:49.757925",
     "status": "completed"
    },
    "tags": []
   },
   "outputs": [],
   "source": [
    "train_data = pd.get_dummies(train_data, columns=['Title'], drop_first=True)"
   ]
  },
  {
   "cell_type": "markdown",
   "id": "c83f65db",
   "metadata": {
    "papermill": {
     "duration": 0.012264,
     "end_time": "2025-06-23T17:45:49.809971",
     "exception": false,
     "start_time": "2025-06-23T17:45:49.797707",
     "status": "completed"
    },
    "tags": []
   },
   "source": [
    "#### Family Size and IsAlone\n",
    "\n",
    "'FamilySize' is created using 'SibSp' (number of siblings/spouses) and 'Parch' (number of parents/children) columns. A new feature, `IsAlone`, is also added, indicating whether the passenger traveled alone.\n"
   ]
  },
  {
   "cell_type": "code",
   "execution_count": 27,
   "id": "ec9623b9",
   "metadata": {
    "execution": {
     "iopub.execute_input": "2025-06-23T17:45:49.836133Z",
     "iopub.status.busy": "2025-06-23T17:45:49.835780Z",
     "iopub.status.idle": "2025-06-23T17:45:49.842951Z",
     "shell.execute_reply": "2025-06-23T17:45:49.841951Z"
    },
    "papermill": {
     "duration": 0.022149,
     "end_time": "2025-06-23T17:45:49.844590",
     "exception": false,
     "start_time": "2025-06-23T17:45:49.822441",
     "status": "completed"
    },
    "tags": []
   },
   "outputs": [],
   "source": [
    "# Family information\n",
    "train_data['FamilySize'] = train_data['SibSp'] + train_data['Parch'] + 1\n",
    "train_data['IsAlone'] = (train_data['FamilySize'] == 1).astype(int)"
   ]
  },
  {
   "cell_type": "markdown",
   "id": "0c937e50",
   "metadata": {
    "papermill": {
     "duration": 0.012323,
     "end_time": "2025-06-23T17:45:49.869708",
     "exception": false,
     "start_time": "2025-06-23T17:45:49.857385",
     "status": "completed"
    },
    "tags": []
   },
   "source": [
    "### Dropping Unnecessary Columns\n",
    "\n",
    "Columns not needed for model training, such as 'PassengerId', 'Name', and 'Ticket', are removed from the dataset.\n"
   ]
  },
  {
   "cell_type": "code",
   "execution_count": 28,
   "id": "b787819d",
   "metadata": {
    "execution": {
     "iopub.execute_input": "2025-06-23T17:45:49.896788Z",
     "iopub.status.busy": "2025-06-23T17:45:49.896433Z",
     "iopub.status.idle": "2025-06-23T17:45:49.902199Z",
     "shell.execute_reply": "2025-06-23T17:45:49.901126Z"
    },
    "papermill": {
     "duration": 0.021421,
     "end_time": "2025-06-23T17:45:49.903772",
     "exception": false,
     "start_time": "2025-06-23T17:45:49.882351",
     "status": "completed"
    },
    "tags": []
   },
   "outputs": [],
   "source": [
    "train_data = train_data.drop(['PassengerId', 'Name', 'Ticket'], axis=1)"
   ]
  },
  {
   "cell_type": "markdown",
   "id": "20c75776",
   "metadata": {
    "papermill": {
     "duration": 0.012105,
     "end_time": "2025-06-23T17:45:49.928530",
     "exception": false,
     "start_time": "2025-06-23T17:45:49.916425",
     "status": "completed"
    },
    "tags": []
   },
   "source": [
    "The final state of the dataset "
   ]
  },
  {
   "cell_type": "code",
   "execution_count": 29,
   "id": "2f43ff47",
   "metadata": {
    "execution": {
     "iopub.execute_input": "2025-06-23T17:45:49.954613Z",
     "iopub.status.busy": "2025-06-23T17:45:49.954305Z",
     "iopub.status.idle": "2025-06-23T17:45:49.970490Z",
     "shell.execute_reply": "2025-06-23T17:45:49.969578Z"
    },
    "papermill": {
     "duration": 0.03113,
     "end_time": "2025-06-23T17:45:49.972010",
     "exception": false,
     "start_time": "2025-06-23T17:45:49.940880",
     "status": "completed"
    },
    "tags": []
   },
   "outputs": [
    {
     "data": {
      "text/html": [
       "<div>\n",
       "<style scoped>\n",
       "    .dataframe tbody tr th:only-of-type {\n",
       "        vertical-align: middle;\n",
       "    }\n",
       "\n",
       "    .dataframe tbody tr th {\n",
       "        vertical-align: top;\n",
       "    }\n",
       "\n",
       "    .dataframe thead th {\n",
       "        text-align: right;\n",
       "    }\n",
       "</style>\n",
       "<table border=\"1\" class=\"dataframe\">\n",
       "  <thead>\n",
       "    <tr style=\"text-align: right;\">\n",
       "      <th></th>\n",
       "      <th>Survived</th>\n",
       "      <th>Age</th>\n",
       "      <th>SibSp</th>\n",
       "      <th>Parch</th>\n",
       "      <th>Fare</th>\n",
       "      <th>Sex_male</th>\n",
       "      <th>Embarked_Q</th>\n",
       "      <th>Embarked_S</th>\n",
       "      <th>Pclass_2</th>\n",
       "      <th>Pclass_3</th>\n",
       "      <th>Title_Miss</th>\n",
       "      <th>Title_Mr</th>\n",
       "      <th>Title_Mrs</th>\n",
       "      <th>Title_Rare</th>\n",
       "      <th>FamilySize</th>\n",
       "      <th>IsAlone</th>\n",
       "    </tr>\n",
       "  </thead>\n",
       "  <tbody>\n",
       "    <tr>\n",
       "      <th>0</th>\n",
       "      <td>0</td>\n",
       "      <td>22.0</td>\n",
       "      <td>1</td>\n",
       "      <td>0</td>\n",
       "      <td>2.110213</td>\n",
       "      <td>True</td>\n",
       "      <td>False</td>\n",
       "      <td>True</td>\n",
       "      <td>False</td>\n",
       "      <td>True</td>\n",
       "      <td>False</td>\n",
       "      <td>True</td>\n",
       "      <td>False</td>\n",
       "      <td>False</td>\n",
       "      <td>2</td>\n",
       "      <td>0</td>\n",
       "    </tr>\n",
       "    <tr>\n",
       "      <th>1</th>\n",
       "      <td>1</td>\n",
       "      <td>38.0</td>\n",
       "      <td>1</td>\n",
       "      <td>0</td>\n",
       "      <td>4.280593</td>\n",
       "      <td>False</td>\n",
       "      <td>False</td>\n",
       "      <td>False</td>\n",
       "      <td>False</td>\n",
       "      <td>False</td>\n",
       "      <td>False</td>\n",
       "      <td>False</td>\n",
       "      <td>True</td>\n",
       "      <td>False</td>\n",
       "      <td>2</td>\n",
       "      <td>0</td>\n",
       "    </tr>\n",
       "    <tr>\n",
       "      <th>2</th>\n",
       "      <td>1</td>\n",
       "      <td>26.0</td>\n",
       "      <td>0</td>\n",
       "      <td>0</td>\n",
       "      <td>2.188856</td>\n",
       "      <td>False</td>\n",
       "      <td>False</td>\n",
       "      <td>True</td>\n",
       "      <td>False</td>\n",
       "      <td>True</td>\n",
       "      <td>True</td>\n",
       "      <td>False</td>\n",
       "      <td>False</td>\n",
       "      <td>False</td>\n",
       "      <td>1</td>\n",
       "      <td>1</td>\n",
       "    </tr>\n",
       "    <tr>\n",
       "      <th>3</th>\n",
       "      <td>1</td>\n",
       "      <td>35.0</td>\n",
       "      <td>1</td>\n",
       "      <td>0</td>\n",
       "      <td>3.990834</td>\n",
       "      <td>False</td>\n",
       "      <td>False</td>\n",
       "      <td>True</td>\n",
       "      <td>False</td>\n",
       "      <td>False</td>\n",
       "      <td>False</td>\n",
       "      <td>False</td>\n",
       "      <td>True</td>\n",
       "      <td>False</td>\n",
       "      <td>2</td>\n",
       "      <td>0</td>\n",
       "    </tr>\n",
       "    <tr>\n",
       "      <th>4</th>\n",
       "      <td>0</td>\n",
       "      <td>35.0</td>\n",
       "      <td>0</td>\n",
       "      <td>0</td>\n",
       "      <td>2.202765</td>\n",
       "      <td>True</td>\n",
       "      <td>False</td>\n",
       "      <td>True</td>\n",
       "      <td>False</td>\n",
       "      <td>True</td>\n",
       "      <td>False</td>\n",
       "      <td>True</td>\n",
       "      <td>False</td>\n",
       "      <td>False</td>\n",
       "      <td>1</td>\n",
       "      <td>1</td>\n",
       "    </tr>\n",
       "  </tbody>\n",
       "</table>\n",
       "</div>"
      ],
      "text/plain": [
       "   Survived   Age  SibSp  Parch      Fare  Sex_male  Embarked_Q  Embarked_S  \\\n",
       "0         0  22.0      1      0  2.110213      True       False        True   \n",
       "1         1  38.0      1      0  4.280593     False       False       False   \n",
       "2         1  26.0      0      0  2.188856     False       False        True   \n",
       "3         1  35.0      1      0  3.990834     False       False        True   \n",
       "4         0  35.0      0      0  2.202765      True       False        True   \n",
       "\n",
       "   Pclass_2  Pclass_3  Title_Miss  Title_Mr  Title_Mrs  Title_Rare  \\\n",
       "0     False      True       False      True      False       False   \n",
       "1     False     False       False     False       True       False   \n",
       "2     False      True        True     False      False       False   \n",
       "3     False     False       False     False       True       False   \n",
       "4     False      True       False      True      False       False   \n",
       "\n",
       "   FamilySize  IsAlone  \n",
       "0           2        0  \n",
       "1           2        0  \n",
       "2           1        1  \n",
       "3           2        0  \n",
       "4           1        1  "
      ]
     },
     "execution_count": 29,
     "metadata": {},
     "output_type": "execute_result"
    }
   ],
   "source": [
    "train_data.head()"
   ]
  },
  {
   "cell_type": "markdown",
   "id": "2185559f",
   "metadata": {
    "papermill": {
     "duration": 0.012745,
     "end_time": "2025-06-23T17:45:49.997552",
     "exception": false,
     "start_time": "2025-06-23T17:45:49.984807",
     "status": "completed"
    },
    "tags": []
   },
   "source": [
    "### Model Training (Logistic Regression)\n",
    "\n",
    "The dataset is split into training and test sets. Numerical features are scaled using `StandardScaler`, and a `LogisticRegression` model is trained within a `Pipeline`.\n"
   ]
  },
  {
   "cell_type": "code",
   "execution_count": 30,
   "id": "b1727a24",
   "metadata": {
    "execution": {
     "iopub.execute_input": "2025-06-23T17:45:50.024812Z",
     "iopub.status.busy": "2025-06-23T17:45:50.024484Z",
     "iopub.status.idle": "2025-06-23T17:45:50.030600Z",
     "shell.execute_reply": "2025-06-23T17:45:50.029756Z"
    },
    "papermill": {
     "duration": 0.021691,
     "end_time": "2025-06-23T17:45:50.032173",
     "exception": false,
     "start_time": "2025-06-23T17:45:50.010482",
     "status": "completed"
    },
    "tags": []
   },
   "outputs": [],
   "source": [
    "# Separate features (X) and target variable (y)\n",
    "X = train_data.drop('Survived', axis=1)\n",
    "y = train_data['Survived']\n"
   ]
  },
  {
   "cell_type": "code",
   "execution_count": 31,
   "id": "84c4484d",
   "metadata": {
    "execution": {
     "iopub.execute_input": "2025-06-23T17:45:50.061705Z",
     "iopub.status.busy": "2025-06-23T17:45:50.061369Z",
     "iopub.status.idle": "2025-06-23T17:45:50.103587Z",
     "shell.execute_reply": "2025-06-23T17:45:50.102664Z"
    },
    "papermill": {
     "duration": 0.05911,
     "end_time": "2025-06-23T17:45:50.105296",
     "exception": false,
     "start_time": "2025-06-23T17:45:50.046186",
     "status": "completed"
    },
    "tags": []
   },
   "outputs": [
    {
     "data": {
      "text/html": [
       "<style>#sk-container-id-1 {color: black;background-color: white;}#sk-container-id-1 pre{padding: 0;}#sk-container-id-1 div.sk-toggleable {background-color: white;}#sk-container-id-1 label.sk-toggleable__label {cursor: pointer;display: block;width: 100%;margin-bottom: 0;padding: 0.3em;box-sizing: border-box;text-align: center;}#sk-container-id-1 label.sk-toggleable__label-arrow:before {content: \"▸\";float: left;margin-right: 0.25em;color: #696969;}#sk-container-id-1 label.sk-toggleable__label-arrow:hover:before {color: black;}#sk-container-id-1 div.sk-estimator:hover label.sk-toggleable__label-arrow:before {color: black;}#sk-container-id-1 div.sk-toggleable__content {max-height: 0;max-width: 0;overflow: hidden;text-align: left;background-color: #f0f8ff;}#sk-container-id-1 div.sk-toggleable__content pre {margin: 0.2em;color: black;border-radius: 0.25em;background-color: #f0f8ff;}#sk-container-id-1 input.sk-toggleable__control:checked~div.sk-toggleable__content {max-height: 200px;max-width: 100%;overflow: auto;}#sk-container-id-1 input.sk-toggleable__control:checked~label.sk-toggleable__label-arrow:before {content: \"▾\";}#sk-container-id-1 div.sk-estimator input.sk-toggleable__control:checked~label.sk-toggleable__label {background-color: #d4ebff;}#sk-container-id-1 div.sk-label input.sk-toggleable__control:checked~label.sk-toggleable__label {background-color: #d4ebff;}#sk-container-id-1 input.sk-hidden--visually {border: 0;clip: rect(1px 1px 1px 1px);clip: rect(1px, 1px, 1px, 1px);height: 1px;margin: -1px;overflow: hidden;padding: 0;position: absolute;width: 1px;}#sk-container-id-1 div.sk-estimator {font-family: monospace;background-color: #f0f8ff;border: 1px dotted black;border-radius: 0.25em;box-sizing: border-box;margin-bottom: 0.5em;}#sk-container-id-1 div.sk-estimator:hover {background-color: #d4ebff;}#sk-container-id-1 div.sk-parallel-item::after {content: \"\";width: 100%;border-bottom: 1px solid gray;flex-grow: 1;}#sk-container-id-1 div.sk-label:hover label.sk-toggleable__label {background-color: #d4ebff;}#sk-container-id-1 div.sk-serial::before {content: \"\";position: absolute;border-left: 1px solid gray;box-sizing: border-box;top: 0;bottom: 0;left: 50%;z-index: 0;}#sk-container-id-1 div.sk-serial {display: flex;flex-direction: column;align-items: center;background-color: white;padding-right: 0.2em;padding-left: 0.2em;position: relative;}#sk-container-id-1 div.sk-item {position: relative;z-index: 1;}#sk-container-id-1 div.sk-parallel {display: flex;align-items: stretch;justify-content: center;background-color: white;position: relative;}#sk-container-id-1 div.sk-item::before, #sk-container-id-1 div.sk-parallel-item::before {content: \"\";position: absolute;border-left: 1px solid gray;box-sizing: border-box;top: 0;bottom: 0;left: 50%;z-index: -1;}#sk-container-id-1 div.sk-parallel-item {display: flex;flex-direction: column;z-index: 1;position: relative;background-color: white;}#sk-container-id-1 div.sk-parallel-item:first-child::after {align-self: flex-end;width: 50%;}#sk-container-id-1 div.sk-parallel-item:last-child::after {align-self: flex-start;width: 50%;}#sk-container-id-1 div.sk-parallel-item:only-child::after {width: 0;}#sk-container-id-1 div.sk-dashed-wrapped {border: 1px dashed gray;margin: 0 0.4em 0.5em 0.4em;box-sizing: border-box;padding-bottom: 0.4em;background-color: white;}#sk-container-id-1 div.sk-label label {font-family: monospace;font-weight: bold;display: inline-block;line-height: 1.2em;}#sk-container-id-1 div.sk-label-container {text-align: center;}#sk-container-id-1 div.sk-container {/* jupyter's `normalize.less` sets `[hidden] { display: none; }` but bootstrap.min.css set `[hidden] { display: none !important; }` so we also need the `!important` here to be able to override the default hidden behavior on the sphinx rendered scikit-learn.org. See: https://github.com/scikit-learn/scikit-learn/issues/21755 */display: inline-block !important;position: relative;}#sk-container-id-1 div.sk-text-repr-fallback {display: none;}</style><div id=\"sk-container-id-1\" class=\"sk-top-container\"><div class=\"sk-text-repr-fallback\"><pre>Pipeline(steps=[(&#x27;scaler&#x27;, StandardScaler()),\n",
       "                (&#x27;logistic_regression&#x27;,\n",
       "                 LogisticRegression(random_state=42, solver=&#x27;liblinear&#x27;))])</pre><b>In a Jupyter environment, please rerun this cell to show the HTML representation or trust the notebook. <br />On GitHub, the HTML representation is unable to render, please try loading this page with nbviewer.org.</b></div><div class=\"sk-container\" hidden><div class=\"sk-item sk-dashed-wrapped\"><div class=\"sk-label-container\"><div class=\"sk-label sk-toggleable\"><input class=\"sk-toggleable__control sk-hidden--visually\" id=\"sk-estimator-id-1\" type=\"checkbox\" ><label for=\"sk-estimator-id-1\" class=\"sk-toggleable__label sk-toggleable__label-arrow\">Pipeline</label><div class=\"sk-toggleable__content\"><pre>Pipeline(steps=[(&#x27;scaler&#x27;, StandardScaler()),\n",
       "                (&#x27;logistic_regression&#x27;,\n",
       "                 LogisticRegression(random_state=42, solver=&#x27;liblinear&#x27;))])</pre></div></div></div><div class=\"sk-serial\"><div class=\"sk-item\"><div class=\"sk-estimator sk-toggleable\"><input class=\"sk-toggleable__control sk-hidden--visually\" id=\"sk-estimator-id-2\" type=\"checkbox\" ><label for=\"sk-estimator-id-2\" class=\"sk-toggleable__label sk-toggleable__label-arrow\">StandardScaler</label><div class=\"sk-toggleable__content\"><pre>StandardScaler()</pre></div></div></div><div class=\"sk-item\"><div class=\"sk-estimator sk-toggleable\"><input class=\"sk-toggleable__control sk-hidden--visually\" id=\"sk-estimator-id-3\" type=\"checkbox\" ><label for=\"sk-estimator-id-3\" class=\"sk-toggleable__label sk-toggleable__label-arrow\">LogisticRegression</label><div class=\"sk-toggleable__content\"><pre>LogisticRegression(random_state=42, solver=&#x27;liblinear&#x27;)</pre></div></div></div></div></div></div></div>"
      ],
      "text/plain": [
       "Pipeline(steps=[('scaler', StandardScaler()),\n",
       "                ('logistic_regression',\n",
       "                 LogisticRegression(random_state=42, solver='liblinear'))])"
      ]
     },
     "execution_count": 31,
     "metadata": {},
     "output_type": "execute_result"
    }
   ],
   "source": [
    "# Split into training and test sets\n",
    "X_train, X_test, y_train, y_test = train_test_split(X, y, test_size=0.2, random_state=42)\n",
    "\n",
    "# Create and train the Model Pipeline\n",
    "# StandardScaler scales numerical data, LogisticRegression trains the model\n",
    "model_pipeline = Pipeline([\n",
    "    ('scaler', StandardScaler()),\n",
    "    ('logistic_regression', LogisticRegression(random_state=42, solver='liblinear'))\n",
    "])\n",
    "\n",
    "# Train the model on the training data\n",
    "model_pipeline.fit(X_train, y_train)"
   ]
  },
  {
   "cell_type": "markdown",
   "id": "2db08e84",
   "metadata": {
    "papermill": {
     "duration": 0.013897,
     "end_time": "2025-06-23T17:45:50.133067",
     "exception": false,
     "start_time": "2025-06-23T17:45:50.119170",
     "status": "completed"
    },
    "tags": []
   },
   "source": [
    "### Model Evaluation\n",
    "\n",
    "The performance of the trained model is evaluated using `classification_report`, `roc_auc_score`, and `confusion_matrix`."
   ]
  },
  {
   "cell_type": "code",
   "execution_count": 32,
   "id": "1651376f",
   "metadata": {
    "execution": {
     "iopub.execute_input": "2025-06-23T17:45:50.163179Z",
     "iopub.status.busy": "2025-06-23T17:45:50.162141Z",
     "iopub.status.idle": "2025-06-23T17:45:50.171712Z",
     "shell.execute_reply": "2025-06-23T17:45:50.170809Z"
    },
    "papermill": {
     "duration": 0.026007,
     "end_time": "2025-06-23T17:45:50.173521",
     "exception": false,
     "start_time": "2025-06-23T17:45:50.147514",
     "status": "completed"
    },
    "tags": []
   },
   "outputs": [],
   "source": [
    "X= train_data.drop('Survived', axis=1)\n",
    "y= train_data['Survived']\n",
    "X_train, X_test, y_train, y_test = train_test_split(X, y, test_size=0.2, random_state=42)"
   ]
  },
  {
   "cell_type": "code",
   "execution_count": 33,
   "id": "c42c85ff",
   "metadata": {
    "execution": {
     "iopub.execute_input": "2025-06-23T17:45:50.202198Z",
     "iopub.status.busy": "2025-06-23T17:45:50.201827Z",
     "iopub.status.idle": "2025-06-23T17:45:50.221566Z",
     "shell.execute_reply": "2025-06-23T17:45:50.220642Z"
    },
    "papermill": {
     "duration": 0.036262,
     "end_time": "2025-06-23T17:45:50.223482",
     "exception": false,
     "start_time": "2025-06-23T17:45:50.187220",
     "status": "completed"
    },
    "tags": []
   },
   "outputs": [
    {
     "data": {
      "text/html": [
       "<style>#sk-container-id-2 {color: black;background-color: white;}#sk-container-id-2 pre{padding: 0;}#sk-container-id-2 div.sk-toggleable {background-color: white;}#sk-container-id-2 label.sk-toggleable__label {cursor: pointer;display: block;width: 100%;margin-bottom: 0;padding: 0.3em;box-sizing: border-box;text-align: center;}#sk-container-id-2 label.sk-toggleable__label-arrow:before {content: \"▸\";float: left;margin-right: 0.25em;color: #696969;}#sk-container-id-2 label.sk-toggleable__label-arrow:hover:before {color: black;}#sk-container-id-2 div.sk-estimator:hover label.sk-toggleable__label-arrow:before {color: black;}#sk-container-id-2 div.sk-toggleable__content {max-height: 0;max-width: 0;overflow: hidden;text-align: left;background-color: #f0f8ff;}#sk-container-id-2 div.sk-toggleable__content pre {margin: 0.2em;color: black;border-radius: 0.25em;background-color: #f0f8ff;}#sk-container-id-2 input.sk-toggleable__control:checked~div.sk-toggleable__content {max-height: 200px;max-width: 100%;overflow: auto;}#sk-container-id-2 input.sk-toggleable__control:checked~label.sk-toggleable__label-arrow:before {content: \"▾\";}#sk-container-id-2 div.sk-estimator input.sk-toggleable__control:checked~label.sk-toggleable__label {background-color: #d4ebff;}#sk-container-id-2 div.sk-label input.sk-toggleable__control:checked~label.sk-toggleable__label {background-color: #d4ebff;}#sk-container-id-2 input.sk-hidden--visually {border: 0;clip: rect(1px 1px 1px 1px);clip: rect(1px, 1px, 1px, 1px);height: 1px;margin: -1px;overflow: hidden;padding: 0;position: absolute;width: 1px;}#sk-container-id-2 div.sk-estimator {font-family: monospace;background-color: #f0f8ff;border: 1px dotted black;border-radius: 0.25em;box-sizing: border-box;margin-bottom: 0.5em;}#sk-container-id-2 div.sk-estimator:hover {background-color: #d4ebff;}#sk-container-id-2 div.sk-parallel-item::after {content: \"\";width: 100%;border-bottom: 1px solid gray;flex-grow: 1;}#sk-container-id-2 div.sk-label:hover label.sk-toggleable__label {background-color: #d4ebff;}#sk-container-id-2 div.sk-serial::before {content: \"\";position: absolute;border-left: 1px solid gray;box-sizing: border-box;top: 0;bottom: 0;left: 50%;z-index: 0;}#sk-container-id-2 div.sk-serial {display: flex;flex-direction: column;align-items: center;background-color: white;padding-right: 0.2em;padding-left: 0.2em;position: relative;}#sk-container-id-2 div.sk-item {position: relative;z-index: 1;}#sk-container-id-2 div.sk-parallel {display: flex;align-items: stretch;justify-content: center;background-color: white;position: relative;}#sk-container-id-2 div.sk-item::before, #sk-container-id-2 div.sk-parallel-item::before {content: \"\";position: absolute;border-left: 1px solid gray;box-sizing: border-box;top: 0;bottom: 0;left: 50%;z-index: -1;}#sk-container-id-2 div.sk-parallel-item {display: flex;flex-direction: column;z-index: 1;position: relative;background-color: white;}#sk-container-id-2 div.sk-parallel-item:first-child::after {align-self: flex-end;width: 50%;}#sk-container-id-2 div.sk-parallel-item:last-child::after {align-self: flex-start;width: 50%;}#sk-container-id-2 div.sk-parallel-item:only-child::after {width: 0;}#sk-container-id-2 div.sk-dashed-wrapped {border: 1px dashed gray;margin: 0 0.4em 0.5em 0.4em;box-sizing: border-box;padding-bottom: 0.4em;background-color: white;}#sk-container-id-2 div.sk-label label {font-family: monospace;font-weight: bold;display: inline-block;line-height: 1.2em;}#sk-container-id-2 div.sk-label-container {text-align: center;}#sk-container-id-2 div.sk-container {/* jupyter's `normalize.less` sets `[hidden] { display: none; }` but bootstrap.min.css set `[hidden] { display: none !important; }` so we also need the `!important` here to be able to override the default hidden behavior on the sphinx rendered scikit-learn.org. See: https://github.com/scikit-learn/scikit-learn/issues/21755 */display: inline-block !important;position: relative;}#sk-container-id-2 div.sk-text-repr-fallback {display: none;}</style><div id=\"sk-container-id-2\" class=\"sk-top-container\"><div class=\"sk-text-repr-fallback\"><pre>Pipeline(steps=[(&#x27;scaler&#x27;, StandardScaler()),\n",
       "                (&#x27;logistic_regression&#x27;,\n",
       "                 LogisticRegression(random_state=42, solver=&#x27;liblinear&#x27;))])</pre><b>In a Jupyter environment, please rerun this cell to show the HTML representation or trust the notebook. <br />On GitHub, the HTML representation is unable to render, please try loading this page with nbviewer.org.</b></div><div class=\"sk-container\" hidden><div class=\"sk-item sk-dashed-wrapped\"><div class=\"sk-label-container\"><div class=\"sk-label sk-toggleable\"><input class=\"sk-toggleable__control sk-hidden--visually\" id=\"sk-estimator-id-4\" type=\"checkbox\" ><label for=\"sk-estimator-id-4\" class=\"sk-toggleable__label sk-toggleable__label-arrow\">Pipeline</label><div class=\"sk-toggleable__content\"><pre>Pipeline(steps=[(&#x27;scaler&#x27;, StandardScaler()),\n",
       "                (&#x27;logistic_regression&#x27;,\n",
       "                 LogisticRegression(random_state=42, solver=&#x27;liblinear&#x27;))])</pre></div></div></div><div class=\"sk-serial\"><div class=\"sk-item\"><div class=\"sk-estimator sk-toggleable\"><input class=\"sk-toggleable__control sk-hidden--visually\" id=\"sk-estimator-id-5\" type=\"checkbox\" ><label for=\"sk-estimator-id-5\" class=\"sk-toggleable__label sk-toggleable__label-arrow\">StandardScaler</label><div class=\"sk-toggleable__content\"><pre>StandardScaler()</pre></div></div></div><div class=\"sk-item\"><div class=\"sk-estimator sk-toggleable\"><input class=\"sk-toggleable__control sk-hidden--visually\" id=\"sk-estimator-id-6\" type=\"checkbox\" ><label for=\"sk-estimator-id-6\" class=\"sk-toggleable__label sk-toggleable__label-arrow\">LogisticRegression</label><div class=\"sk-toggleable__content\"><pre>LogisticRegression(random_state=42, solver=&#x27;liblinear&#x27;)</pre></div></div></div></div></div></div></div>"
      ],
      "text/plain": [
       "Pipeline(steps=[('scaler', StandardScaler()),\n",
       "                ('logistic_regression',\n",
       "                 LogisticRegression(random_state=42, solver='liblinear'))])"
      ]
     },
     "execution_count": 33,
     "metadata": {},
     "output_type": "execute_result"
    }
   ],
   "source": [
    "model_pipeline = Pipeline([\n",
    "    ('scaler', StandardScaler()),      \n",
    "    ('logistic_regression', LogisticRegression(random_state=42, solver='liblinear')) \n",
    "])\n",
    "model_pipeline.fit(X_train, y_train)"
   ]
  },
  {
   "cell_type": "code",
   "execution_count": 34,
   "id": "9cfd0d26",
   "metadata": {
    "execution": {
     "iopub.execute_input": "2025-06-23T17:45:50.253530Z",
     "iopub.status.busy": "2025-06-23T17:45:50.253192Z",
     "iopub.status.idle": "2025-06-23T17:45:50.271467Z",
     "shell.execute_reply": "2025-06-23T17:45:50.270506Z"
    },
    "papermill": {
     "duration": 0.034668,
     "end_time": "2025-06-23T17:45:50.273108",
     "exception": false,
     "start_time": "2025-06-23T17:45:50.238440",
     "status": "completed"
    },
    "tags": []
   },
   "outputs": [
    {
     "name": "stdout",
     "output_type": "stream",
     "text": [
      "Classification Report:\n",
      "              precision    recall  f1-score   support\n",
      "\n",
      "           0       0.84      0.85      0.84       105\n",
      "           1       0.78      0.77      0.78        74\n",
      "\n",
      "    accuracy                           0.82       179\n",
      "   macro avg       0.81      0.81      0.81       179\n",
      "weighted avg       0.82      0.82      0.82       179\n",
      "\n"
     ]
    }
   ],
   "source": [
    "# Make predictions on the test set\n",
    "y_pred = model_pipeline.predict(X_test)\n",
    "y_proba = model_pipeline.predict_proba(X_test)[:, 1] # Get survival probabilities\n",
    "\n",
    "# Classification Report (Precision, Recall, F1-Score)\n",
    "print(\"Classification Report:\")\n",
    "print(classification_report(y_test, y_pred))"
   ]
  },
  {
   "cell_type": "markdown",
   "id": "da105607",
   "metadata": {
    "papermill": {
     "duration": 0.013236,
     "end_time": "2025-06-23T17:45:50.300150",
     "exception": false,
     "start_time": "2025-06-23T17:45:50.286914",
     "status": "completed"
    },
    "tags": []
   },
   "source": [
    "#### Confusion Matrix\n",
    "\n",
    "The confusion matrix, showing the model's correct and incorrect predictions, is visualized."
   ]
  },
  {
   "cell_type": "code",
   "execution_count": 35,
   "id": "0c5f20d5",
   "metadata": {
    "execution": {
     "iopub.execute_input": "2025-06-23T17:45:50.328791Z",
     "iopub.status.busy": "2025-06-23T17:45:50.328471Z",
     "iopub.status.idle": "2025-06-23T17:45:50.528266Z",
     "shell.execute_reply": "2025-06-23T17:45:50.527283Z"
    },
    "papermill": {
     "duration": 0.215814,
     "end_time": "2025-06-23T17:45:50.529770",
     "exception": false,
     "start_time": "2025-06-23T17:45:50.313956",
     "status": "completed"
    },
    "tags": []
   },
   "outputs": [
    {
     "data": {
      "text/plain": [
       "<Figure size 600x600 with 0 Axes>"
      ]
     },
     "metadata": {},
     "output_type": "display_data"
    },
    {
     "data": {
      "image/png": "[encoded data removed]",
      "text/plain": [
       "<Figure size 640x480 with 2 Axes>"
      ]
     },
     "metadata": {},
     "output_type": "display_data"
    }
   ],
   "source": [
    "# Confusion Matrix\n",
    "confusion_matrix_data = confusion_matrix(y_test, y_pred)\n",
    "cm_display = ConfusionMatrixDisplay(confusion_matrix = confusion_matrix_data, display_labels = [0, 1])\n",
    "\n",
    "plt.figure(figsize=(6, 6))\n",
    "cm_display.plot(cmap='Blues')\n",
    "plt.title(\"Confusion Matrix\")\n",
    "plt.show()"
   ]
  },
  {
   "cell_type": "markdown",
   "id": "b6ac890d",
   "metadata": {
    "papermill": {
     "duration": 0.013807,
     "end_time": "2025-06-23T17:45:50.557723",
     "exception": false,
     "start_time": "2025-06-23T17:45:50.543916",
     "status": "completed"
    },
    "tags": []
   },
   "source": [
    "#### ROC Curve and AUC Score\n",
    "\n",
    "The ROC curve is plotted, and the AUC (Area Under the Curve) score is calculated to summarize the model's classification ability. The AUC score indicates how well the model separates positive and negative classes.\n"
   ]
  },
  {
   "cell_type": "code",
   "execution_count": 36,
   "id": "91534ff5",
   "metadata": {
    "execution": {
     "iopub.execute_input": "2025-06-23T17:45:50.587402Z",
     "iopub.status.busy": "2025-06-23T17:45:50.587015Z",
     "iopub.status.idle": "2025-06-23T17:45:50.794168Z",
     "shell.execute_reply": "2025-06-23T17:45:50.793093Z"
    },
    "papermill": {
     "duration": 0.224247,
     "end_time": "2025-06-23T17:45:50.795934",
     "exception": false,
     "start_time": "2025-06-23T17:45:50.571687",
     "status": "completed"
    },
    "tags": []
   },
   "outputs": [
    {
     "name": "stdout",
     "output_type": "stream",
     "text": [
      "\n",
      "ROC AUC Score: 0.89\n"
     ]
    },
    {
     "data": {
      "image/png": "[encoded data removed]",
      "text/plain": [
       "<Figure size 800x600 with 1 Axes>"
      ]
     },
     "metadata": {},
     "output_type": "display_data"
    }
   ],
   "source": [
    "# ROC AUC Score\n",
    "roc_auc = roc_auc_score(y_test, y_proba)\n",
    "print(f\"\\nROC AUC Score: {roc_auc:.2f}\")\n",
    "\n",
    "# ROC Curve (Visual)\n",
    "fpr, tpr, _ = metrics.roc_curve(y_test, y_proba)\n",
    "plt.figure(figsize=(8, 6))\n",
    "plt.plot(fpr, tpr, label=f'ROC Curve (area = {roc_auc:.2f})', color='darkorange')\n",
    "plt.plot([0, 1], [0, 1], 'k--', label='Random Guessing')\n",
    "plt.xlabel('False Positive Rate')\n",
    "plt.ylabel('True Positive Rate')\n",
    "plt.title('ROC Curve')\n",
    "plt.legend(loc='lower right')\n",
    "plt.grid(True)\n",
    "plt.show()"
   ]
  },
  {
   "cell_type": "markdown",
   "id": "bf779df9",
   "metadata": {
    "papermill": {
     "duration": 0.014766,
     "end_time": "2025-06-23T17:45:50.827131",
     "exception": false,
     "start_time": "2025-06-23T17:45:50.812365",
     "status": "completed"
    },
    "tags": []
   },
   "source": [
    "### Model Saving \n",
    "\n",
    "The trained model (`model_pipeline`) is saved to a file named `model.pkl` for future use. \n"
   ]
  },
  {
   "cell_type": "code",
   "execution_count": 37,
   "id": "a5fc8af4",
   "metadata": {
    "execution": {
     "iopub.execute_input": "2025-06-23T17:45:50.859983Z",
     "iopub.status.busy": "2025-06-23T17:45:50.858923Z",
     "iopub.status.idle": "2025-06-23T17:45:50.868476Z",
     "shell.execute_reply": "2025-06-23T17:45:50.867156Z"
    },
    "papermill": {
     "duration": 0.027561,
     "end_time": "2025-06-23T17:45:50.869985",
     "exception": false,
     "start_time": "2025-06-23T17:45:50.842424",
     "status": "completed"
    },
    "tags": []
   },
   "outputs": [
    {
     "name": "stdout",
     "output_type": "stream",
     "text": [
      "\n",
      "Trained model pipeline 'model.pkl' saved.\n",
      "Your Streamlit application can now load this file to make predictions.\n"
     ]
    }
   ],
   "source": [
    "# Save the trained pipeline as 'model.pkl'\n",
    "model_filename = 'model.pkl'\n",
    "joblib.dump(model_pipeline, model_filename)\n",
    "\n",
    "print(f\"\\nTrained model pipeline '{model_filename}' saved.\")\n",
    "print(\"Your Streamlit application can now load this file to make predictions.\")\n",
    "\n"
   ]
  }
 ],
 "metadata": {
  "kaggle": {
   "accelerator": "none",
   "dataSources": [
    {
     "databundleVersionId": 26502,
     "isSourceIdPinned": false,
     "sourceId": 3136,
     "sourceType": "competition"
    }
   ],
   "dockerImageVersionId": 31040,
   "isGpuEnabled": false,
   "isInternetEnabled": false,
   "language": "python",
   "sourceType": "notebook"
  },
  "kernelspec": {
   "display_name": "Python 3",
   "language": "python",
   "name": "python3"
  },
  "language_info": {
   "codemirror_mode": {
    "name": "ipython",
    "version": 3
   },
   "file_extension": ".py",
   "mimetype": "text/x-python",
   "name": "python",
   "nbconvert_exporter": "python",
   "pygments_lexer": "ipython3",
   "version": "3.11.11"
  },
  "papermill": {
   "default_parameters": {},
   "duration": 13.766923,
   "end_time": "2025-06-23T17:45:51.707110",
   "environment_variables": {},
   "exception": null,
   "input_path": "__notebook__.ipynb",
   "output_path": "__notebook__.ipynb",
   "parameters": {},
   "start_time": "2025-06-23T17:45:37.940187",
   "version": "2.6.0"
  }
 },
 "nbformat": 4,
 "nbformat_minor": 5
}
